{
  "nbformat": 4,
  "nbformat_minor": 0,
  "metadata": {
    "colab": {
      "provenance": []
    },
    "kernelspec": {
      "name": "python3",
      "display_name": "Python 3"
    },
    "language_info": {
      "name": "python"
    }
  },
  "cells": [
    {
      "cell_type": "code",
      "execution_count": null,
      "metadata": {
        "id": "vkCvNP6SdA82"
      },
      "outputs": [],
      "source": [
        "pip install flask openai\n"
      ]
    },
    {
      "cell_type": "code",
      "source": [
        "import openai\n",
        "from flask import Flask, request, jsonify\n",
        "\n",
        "app = Flask(__name__)\n",
        "\n",
        "# Set up OpenAI API key\n",
        "openai.api_key = 'YOUR_OPENAI_API_KEY'\n",
        "\n",
        "@app.route('/chat', methods=['POST'])\n",
        "def chat():\n",
        "    user_input = request.json.get('message', '')\n",
        "\n",
        "    # Prompt engineering to guide the AI's responses\n",
        "    prompt = (\n",
        "        \"You are a medical health coach. Answer the following questions clearly and professionally. \"\n",
        "        \"If you do not know the answer, suggest the user consult a healthcare professional. \"\n",
        "        \"User: {}\\nHealth Coach:\".format(user_input)\n",
        "    )\n",
        "\n",
        "    try:\n",
        "        response = openai.Completion.create(\n",
        "            engine=\"text-davinci-004\",\n",
        "            prompt=prompt,\n",
        "            max_tokens=150,\n",
        "            n=1,\n",
        "            stop=None,\n",
        "            temperature=0.7,\n",
        "        )\n",
        "        ai_response = response.choices[0].text.strip()\n",
        "        return jsonify({'response': ai_response})\n",
        "\n",
        "    except Exception as e:\n",
        "        return jsonify({'error': str(e)})\n",
        "\n",
        "if __name__ == '__main__':\n",
        "    app.run(debug=True)\n"
      ],
      "metadata": {
        "id": "Xj2xUIeldCJj"
      },
      "execution_count": null,
      "outputs": []
    }
  ]
}